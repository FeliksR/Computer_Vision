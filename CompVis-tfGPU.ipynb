{
 "cells": [
  {
   "cell_type": "code",
   "execution_count": 1,
   "id": "3908f4d1-4d21-4487-b9a1-6c979f89d7ea",
   "metadata": {},
   "outputs": [],
   "source": [
    "import shutil\n",
    "from os import path, getcwd, chdir, makedirs, listdir\n",
    "from tensorflow.keras import layers, models, optimizers, callbacks\n",
    "from tensorflow.keras.preprocessing.image import ImageDataGenerator\n",
    "import pandas as pd"
   ]
  },
  {
   "cell_type": "code",
   "execution_count": 2,
   "id": "ec669c19-77b1-4a61-9668-b99413059fe6",
   "metadata": {},
   "outputs": [],
   "source": [
    "df = pd.read_csv('train.csv')\n",
    "\n",
    "class_names = df.species.unique()\n",
    "num_classes = len(class_names)\n",
    "\n",
    "# setup folders for each class\n",
    "\n",
    "for i in range(len(df)):\n",
    "    Class = df.iloc[i,1]\n",
    "    Identity = df.iloc[i,2]\n",
    "    File= df.iloc[i,0]\n",
    "    filepath = path.join(f'test/{Class}',Identity)\n",
    "    file=path.join(filepath,File)\n",
    "    makedirs(filepath, exist_ok=True)\n",
    "    if not path.exists(file):\n",
    "        shutil.copy(f'train_images/all/{File}',filepath)"
   ]
  },
  {
   "cell_type": "code",
   "execution_count": 24,
   "id": "0f0b965c-f11c-4768-b67b-56e118f61f41",
   "metadata": {},
   "outputs": [],
   "source": [
    "img_height = 128\n",
    "img_width = 128\n",
    "\n",
    "\n",
    "model = models.Sequential([\n",
    "    \n",
    "    layers.Conv2D(filters=32, kernel_size=(5,5), activation= 'relu', input_shape=(img_height,img_width,3)),\n",
    "    layers.MaxPooling2D(2,2,),\n",
    "\n",
    "        \n",
    "\n",
    "    layers.Flatten(),\n",
    "\n",
    "    layers.Dense(256, activation='relu'),\n",
    "    layers.Dense(num_classes, activation='softmax')\n",
    "\n",
    "])\n",
    "#model.summary()\n",
    "opt = optimizers.Adam(.001)\n",
    "model.compile(optimizer = opt,\n",
    "             loss = 'categorical_crossentropy',\n",
    "             metrics = ['accuracy'])\n",
    "\n",
    "\n",
    "checkpoint_filepath = './tmp/checkpoint.ckpt'\n",
    "model_checkpoint_callback = callbacks.ModelCheckpoint(\n",
    "    filepath=checkpoint_filepath,\n",
    "    save_weights_only=True,\n",
    "    verbose = 1,\n",
    "    monitor='val_accuracy',\n",
    "    mode='max',\n",
    "    save_best_only=True)\n",
    "\n",
    "\n",
    "# The model weights (that are considered the best) are loaded into the model.\n",
    "#model.load_weights(checkpoint_filepath)\n"
   ]
  },
  {
   "cell_type": "code",
   "execution_count": 23,
   "id": "5307dc72-e40c-4963-a4ac-7c8f359dcb95",
   "metadata": {},
   "outputs": [
    {
     "name": "stdout",
     "output_type": "stream",
     "text": [
      "Found 40839 images belonging to 30 classes.\n",
      "Found 10194 images belonging to 30 classes.\n",
      "Epoch 1/2\n",
      "408/408 [==============================] - ETA: 0s - loss: 1.8193 - accuracy: 0.5432\n",
      "Epoch 1: val_accuracy improved from -inf to 0.62040, saving model to ./tmp\\checkpoint.ckpt\n",
      "408/408 [==============================] - 1061s 3s/step - loss: 1.8193 - accuracy: 0.5432 - val_loss: 1.3066 - val_accuracy: 0.6204\n",
      "Epoch 2/2\n",
      "408/408 [==============================] - ETA: 0s - loss: 0.9674 - accuracy: 0.7103\n",
      "Epoch 2: val_accuracy improved from 0.62040 to 0.66178, saving model to ./tmp\\checkpoint.ckpt\n",
      "408/408 [==============================] - 1051s 3s/step - loss: 0.9674 - accuracy: 0.7103 - val_loss: 1.1608 - val_accuracy: 0.6618\n"
     ]
    },
    {
     "data": {
      "text/plain": [
       "([0, 1], 0.7103267312049866)"
      ]
     },
     "execution_count": 23,
     "metadata": {},
     "output_type": "execute_result"
    }
   ],
   "source": [
    "batch_size = 100\n",
    "img_height\n",
    "img_width\n",
    "\n",
    "train_datagen = ImageDataGenerator(rescale=1/255,\n",
    "#    rotation_range=20,\n",
    "#    zoom_range=.2,\n",
    "#    shear_range=20,\n",
    "#   horizontal_flip=True,\n",
    "#   fill_mode='nearest',                  \n",
    "    validation_split=0.2)\n",
    "\n",
    "\n",
    "train_generator = train_datagen.flow_from_directory(\n",
    "    'images',\n",
    "    target_size=(img_height, img_width),\n",
    "    batch_size=batch_size,\n",
    "    class_mode='categorical',\n",
    "    subset='training') \n",
    "\n",
    "validation_generator = train_datagen.flow_from_directory(\n",
    "    'images', # same directory as training data\n",
    "    target_size=(img_height, img_width),\n",
    "    batch_size=batch_size,\n",
    "    class_mode='categorical',\n",
    "    subset='validation') \n",
    "\n",
    "history = model.fit(\n",
    "    train_generator,\n",
    "    steps_per_epoch = train_generator.samples // batch_size,\n",
    "    validation_data = validation_generator, \n",
    "    validation_steps = validation_generator.samples // batch_size,\n",
    "    epochs = 2,\n",
    "    callbacks=[model_checkpoint_callback])\n",
    "\n",
    "history.epoch, history.history['accuracy'][-1]"
   ]
  }
 ],
 "metadata": {
  "kernelspec": {
   "display_name": "Python 3 (ipykernel)",
   "language": "python",
   "name": "python3"
  },
  "language_info": {
   "codemirror_mode": {
    "name": "ipython",
    "version": 3
   },
   "file_extension": ".py",
   "mimetype": "text/x-python",
   "name": "python",
   "nbconvert_exporter": "python",
   "pygments_lexer": "ipython3",
   "version": "3.9.0"
  }
 },
 "nbformat": 4,
 "nbformat_minor": 5
}
